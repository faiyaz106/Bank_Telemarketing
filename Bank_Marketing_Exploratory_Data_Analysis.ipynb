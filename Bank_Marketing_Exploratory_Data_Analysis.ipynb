{
 "cells": [
  {
   "cell_type": "code",
   "execution_count": 1,
   "id": "d38d38d2",
   "metadata": {},
   "outputs": [],
   "source": [
    "# importing all the important libraries\n",
    "import pandas as pd\n",
    "import numpy as np\n",
    "import matplotlib.pyplot as plt\n",
    "import seaborn as sns"
   ]
  },
  {
   "cell_type": "code",
   "execution_count": 2,
   "id": "324a8537",
   "metadata": {},
   "outputs": [],
   "source": [
    "# Reading the csv file\n",
    "df=pd.read_csv('bank-full.csv',sep=';')"
   ]
  },
  {
   "cell_type": "code",
   "execution_count": 3,
   "id": "7faa6349",
   "metadata": {},
   "outputs": [
    {
     "data": {
      "text/html": [
       "<div>\n",
       "<style scoped>\n",
       "    .dataframe tbody tr th:only-of-type {\n",
       "        vertical-align: middle;\n",
       "    }\n",
       "\n",
       "    .dataframe tbody tr th {\n",
       "        vertical-align: top;\n",
       "    }\n",
       "\n",
       "    .dataframe thead th {\n",
       "        text-align: right;\n",
       "    }\n",
       "</style>\n",
       "<table border=\"1\" class=\"dataframe\">\n",
       "  <thead>\n",
       "    <tr style=\"text-align: right;\">\n",
       "      <th></th>\n",
       "      <th>age</th>\n",
       "      <th>job</th>\n",
       "      <th>marital</th>\n",
       "      <th>education</th>\n",
       "      <th>default</th>\n",
       "      <th>balance</th>\n",
       "      <th>housing</th>\n",
       "      <th>loan</th>\n",
       "      <th>contact</th>\n",
       "      <th>day</th>\n",
       "      <th>month</th>\n",
       "      <th>duration</th>\n",
       "      <th>campaign</th>\n",
       "      <th>pdays</th>\n",
       "      <th>previous</th>\n",
       "      <th>poutcome</th>\n",
       "      <th>y</th>\n",
       "    </tr>\n",
       "  </thead>\n",
       "  <tbody>\n",
       "    <tr>\n",
       "      <th>0</th>\n",
       "      <td>58</td>\n",
       "      <td>management</td>\n",
       "      <td>married</td>\n",
       "      <td>tertiary</td>\n",
       "      <td>no</td>\n",
       "      <td>2143</td>\n",
       "      <td>yes</td>\n",
       "      <td>no</td>\n",
       "      <td>unknown</td>\n",
       "      <td>5</td>\n",
       "      <td>may</td>\n",
       "      <td>261</td>\n",
       "      <td>1</td>\n",
       "      <td>-1</td>\n",
       "      <td>0</td>\n",
       "      <td>unknown</td>\n",
       "      <td>no</td>\n",
       "    </tr>\n",
       "    <tr>\n",
       "      <th>1</th>\n",
       "      <td>44</td>\n",
       "      <td>technician</td>\n",
       "      <td>single</td>\n",
       "      <td>secondary</td>\n",
       "      <td>no</td>\n",
       "      <td>29</td>\n",
       "      <td>yes</td>\n",
       "      <td>no</td>\n",
       "      <td>unknown</td>\n",
       "      <td>5</td>\n",
       "      <td>may</td>\n",
       "      <td>151</td>\n",
       "      <td>1</td>\n",
       "      <td>-1</td>\n",
       "      <td>0</td>\n",
       "      <td>unknown</td>\n",
       "      <td>no</td>\n",
       "    </tr>\n",
       "    <tr>\n",
       "      <th>2</th>\n",
       "      <td>33</td>\n",
       "      <td>entrepreneur</td>\n",
       "      <td>married</td>\n",
       "      <td>secondary</td>\n",
       "      <td>no</td>\n",
       "      <td>2</td>\n",
       "      <td>yes</td>\n",
       "      <td>yes</td>\n",
       "      <td>unknown</td>\n",
       "      <td>5</td>\n",
       "      <td>may</td>\n",
       "      <td>76</td>\n",
       "      <td>1</td>\n",
       "      <td>-1</td>\n",
       "      <td>0</td>\n",
       "      <td>unknown</td>\n",
       "      <td>no</td>\n",
       "    </tr>\n",
       "    <tr>\n",
       "      <th>3</th>\n",
       "      <td>47</td>\n",
       "      <td>blue-collar</td>\n",
       "      <td>married</td>\n",
       "      <td>unknown</td>\n",
       "      <td>no</td>\n",
       "      <td>1506</td>\n",
       "      <td>yes</td>\n",
       "      <td>no</td>\n",
       "      <td>unknown</td>\n",
       "      <td>5</td>\n",
       "      <td>may</td>\n",
       "      <td>92</td>\n",
       "      <td>1</td>\n",
       "      <td>-1</td>\n",
       "      <td>0</td>\n",
       "      <td>unknown</td>\n",
       "      <td>no</td>\n",
       "    </tr>\n",
       "    <tr>\n",
       "      <th>4</th>\n",
       "      <td>33</td>\n",
       "      <td>unknown</td>\n",
       "      <td>single</td>\n",
       "      <td>unknown</td>\n",
       "      <td>no</td>\n",
       "      <td>1</td>\n",
       "      <td>no</td>\n",
       "      <td>no</td>\n",
       "      <td>unknown</td>\n",
       "      <td>5</td>\n",
       "      <td>may</td>\n",
       "      <td>198</td>\n",
       "      <td>1</td>\n",
       "      <td>-1</td>\n",
       "      <td>0</td>\n",
       "      <td>unknown</td>\n",
       "      <td>no</td>\n",
       "    </tr>\n",
       "  </tbody>\n",
       "</table>\n",
       "</div>"
      ],
      "text/plain": [
       "   age           job  marital  education default  balance housing loan   \n",
       "0   58    management  married   tertiary      no     2143     yes   no  \\\n",
       "1   44    technician   single  secondary      no       29     yes   no   \n",
       "2   33  entrepreneur  married  secondary      no        2     yes  yes   \n",
       "3   47   blue-collar  married    unknown      no     1506     yes   no   \n",
       "4   33       unknown   single    unknown      no        1      no   no   \n",
       "\n",
       "   contact  day month  duration  campaign  pdays  previous poutcome   y  \n",
       "0  unknown    5   may       261         1     -1         0  unknown  no  \n",
       "1  unknown    5   may       151         1     -1         0  unknown  no  \n",
       "2  unknown    5   may        76         1     -1         0  unknown  no  \n",
       "3  unknown    5   may        92         1     -1         0  unknown  no  \n",
       "4  unknown    5   may       198         1     -1         0  unknown  no  "
      ]
     },
     "execution_count": 3,
     "metadata": {},
     "output_type": "execute_result"
    }
   ],
   "source": [
    "df.head()"
   ]
  },
  {
   "cell_type": "code",
   "execution_count": 4,
   "id": "5e2e4470",
   "metadata": {},
   "outputs": [
    {
     "name": "stdout",
     "output_type": "stream",
     "text": [
      "<class 'pandas.core.frame.DataFrame'>\n",
      "RangeIndex: 45211 entries, 0 to 45210\n",
      "Data columns (total 17 columns):\n",
      " #   Column     Non-Null Count  Dtype \n",
      "---  ------     --------------  ----- \n",
      " 0   age        45211 non-null  int64 \n",
      " 1   job        45211 non-null  object\n",
      " 2   marital    45211 non-null  object\n",
      " 3   education  45211 non-null  object\n",
      " 4   default    45211 non-null  object\n",
      " 5   balance    45211 non-null  int64 \n",
      " 6   housing    45211 non-null  object\n",
      " 7   loan       45211 non-null  object\n",
      " 8   contact    45211 non-null  object\n",
      " 9   day        45211 non-null  int64 \n",
      " 10  month      45211 non-null  object\n",
      " 11  duration   45211 non-null  int64 \n",
      " 12  campaign   45211 non-null  int64 \n",
      " 13  pdays      45211 non-null  int64 \n",
      " 14  previous   45211 non-null  int64 \n",
      " 15  poutcome   45211 non-null  object\n",
      " 16  y          45211 non-null  object\n",
      "dtypes: int64(7), object(10)\n",
      "memory usage: 5.9+ MB\n"
     ]
    }
   ],
   "source": [
    "df.info()"
   ]
  },
  {
   "cell_type": "code",
   "execution_count": 5,
   "id": "4644344b",
   "metadata": {},
   "outputs": [
    {
     "data": {
      "text/plain": [
       "age            77\n",
       "job            12\n",
       "marital         3\n",
       "education       4\n",
       "default         2\n",
       "balance      7168\n",
       "housing         2\n",
       "loan            2\n",
       "contact         3\n",
       "day            31\n",
       "month          12\n",
       "duration     1573\n",
       "campaign       48\n",
       "pdays         559\n",
       "previous       41\n",
       "poutcome        4\n",
       "y               2\n",
       "dtype: int64"
      ]
     },
     "execution_count": 5,
     "metadata": {},
     "output_type": "execute_result"
    }
   ],
   "source": [
    "df.nunique()"
   ]
  },
  {
   "cell_type": "markdown",
   "id": "be67d5a8",
   "metadata": {},
   "source": [
    "#### Independent Variables: 17\n",
    "     Categorical Variable:9 \n",
    "          i) job: 7 classes\n",
    "         ii) marital: 3 classes\n",
    "        iii) education: 4 classes\n",
    "         iv) default: 2 classes\n",
    "         v) housing: 2 classes\n",
    "        vi) loan: 2 classes\n",
    "       vii) contact: 3 classes\n",
    "      viii) month: 12 classes\n",
    "        ix) poutcome: 4 classes\n",
    "        \n",
    "     Numerical Variable:8\n",
    "         i) age: [18,95]\n",
    "        ii) balance: [-8019, 102127]\n",
    "       iii) day: [1, 31]\n",
    "        iv) duration: [0, 4918]\n",
    "         v) campaign: [1, 63]\n",
    "        vi) pdays: [-1, 871]\n",
    "       vii) previous: [0, 275]\n",
    "\n",
    "#### Response Variables (Categorical): y (yes or no)"
   ]
  },
  {
   "cell_type": "code",
   "execution_count": 330,
   "id": "613496f7",
   "metadata": {},
   "outputs": [],
   "source": [
    "# five point summary for the continuous variable\n",
    "x=df.describe()"
   ]
  },
  {
   "cell_type": "code",
   "execution_count": 332,
   "id": "8e27ac9f",
   "metadata": {},
   "outputs": [],
   "source": [
    "x.to_csv('statistics.csv')"
   ]
  },
  {
   "cell_type": "markdown",
   "id": "2047b199",
   "metadata": {},
   "source": [
    "### Important functions for making the visualization (Bar plot, Pie Chart, Histogram)"
   ]
  },
  {
   "cell_type": "code",
   "execution_count": 175,
   "id": "fea8f239",
   "metadata": {},
   "outputs": [],
   "source": [
    "# Some important functions for making the chart:\n",
    "def pie_chart(categorical_feature):\n",
    "    labels=list(df[categorical_feature].unique())\n",
    "    values=list(df[categorical_feature].value_counts())\n",
    "    plt.figure(figsize=(3,3),dpi=100)\n",
    "    #ig,ax=plt.subplots()\n",
    "    plt.pie(values,labels=labels,autopct='%1.0f%%')\n",
    "    plt.xlabel('Pie chart for the feature: {}'.format(categorical_feature))"
   ]
  },
  {
   "cell_type": "code",
   "execution_count": 165,
   "id": "eb3709e5",
   "metadata": {},
   "outputs": [],
   "source": [
    "# Bar plot\n",
    "def bar_plot(categorical_feature):\n",
    "    labels=list(df[categorical_feature].unique())\n",
    "    values=list(df[categorical_feature].value_counts(normalize=True)*100)\n",
    "    bar_colors = ['tab:blue','tab:orange']\n",
    "    plt.figure(figsize=(8, 4), dpi=100)\n",
    "    #fig,ax=plt.subplots()\n",
    "    plt.bar(labels,values,color=bar_colors)\n",
    "    plt.xlabel('Pie chart for the feature: {}'.format(categorical_feature))"
   ]
  },
  {
   "cell_type": "code",
   "execution_count": 487,
   "id": "95d91fff",
   "metadata": {},
   "outputs": [
    {
     "data": {
      "text/plain": [
       "Text(0, 0.5, 'job')"
      ]
     },
     "execution_count": 487,
     "metadata": {},
     "output_type": "execute_result"
    },
    {
     "data": {
      "image/png": "[encoded data removed]",
      "text/plain": [
       "<Figure size 800x400 with 1 Axes>"
      ]
     },
     "metadata": {
      "needs_background": "light"
     },
     "output_type": "display_data"
    }
   ],
   "source": [
    "categorical_feature='job'\n",
    "counts=df[categorical_feature].value_counts(normalize=True).sort_values()*100\n",
    "labels=counts.index\n",
    "values=list(counts)\n",
    "bar_colors = ['tab:blue','tab:orange']\n",
    "plt.figure(figsize=(8, 4), dpi=100)\n",
    "#fig,ax=plt.subplots()\n",
    "plt.barh(labels,values,color=bar_colors)\n",
    "plt.xlabel('percentage')\n",
    "plt.ylabel(categorical_feature)"
   ]
  },
  {
   "cell_type": "code",
   "execution_count": 477,
   "id": "694e6bc6",
   "metadata": {},
   "outputs": [
    {
     "data": {
      "image/png": "[encoded data removed]",
      "text/plain": [
       "<Figure size 300x300 with 1 Axes>"
      ]
     },
     "metadata": {},
     "output_type": "display_data"
    }
   ],
   "source": [
    "pie_chart('marital')"
   ]
  },
  {
   "cell_type": "code",
   "execution_count": 83,
   "id": "b6b25ca1",
   "metadata": {},
   "outputs": [
    {
     "data": {
      "text/plain": [
       "[39922, 5289]"
      ]
     },
     "execution_count": 83,
     "metadata": {},
     "output_type": "execute_result"
    }
   ],
   "source": [
    "list(df['y'].value_counts())"
   ]
  },
  {
   "cell_type": "markdown",
   "id": "ce29dc9d",
   "metadata": {},
   "source": [
    "### Check for "
   ]
  },
  {
   "cell_type": "code",
   "execution_count": 69,
   "id": "2347b21f",
   "metadata": {},
   "outputs": [
    {
     "data": {
      "text/plain": [
       "no     88.30152\n",
       "yes    11.69848\n",
       "Name: y, dtype: float64"
      ]
     },
     "execution_count": 69,
     "metadata": {},
     "output_type": "execute_result"
    }
   ],
   "source": [
    "# Check for data \n",
    "df['y'].value_counts(normalize=True)*100"
   ]
  },
  {
   "cell_type": "markdown",
   "id": "0d8068e9",
   "metadata": {},
   "source": [
    "##### Comment: \n",
    "     From above it is clear that , subsription rate is 12%.\n",
    "      i) Data is imbalanced\n",
    "\n",
    "**One question arises: Does imbalance of class in response variable have impact on the training for Classification.**"
   ]
  },
  {
   "cell_type": "code",
   "execution_count": null,
   "id": "ca4934a1",
   "metadata": {},
   "outputs": [],
   "source": []
  },
  {
   "cell_type": "code",
   "execution_count": 11,
   "id": "ac381ee8",
   "metadata": {},
   "outputs": [
    {
     "data": {
      "text/plain": [
       "Text(0, 0.5, 'frequency')"
      ]
     },
     "execution_count": 11,
     "metadata": {},
     "output_type": "execute_result"
    },
    {
     "data": {
      "image/png": "[encoded data removed]",
      "text/plain": [
       "<Figure size 432x288 with 1 Axes>"
      ]
     },
     "metadata": {
      "needs_background": "light"
     },
     "output_type": "display_data"
    }
   ],
   "source": [
    "# General observation about age\n",
    "plt.hist(df['age'])\n",
    "plt.xlabel('age')\n",
    "plt.ylabel('frequency')"
   ]
  },
  {
   "cell_type": "code",
   "execution_count": 130,
   "id": "f061fefa",
   "metadata": {},
   "outputs": [
    {
     "data": {
      "text/plain": [
       "<AxesSubplot:xlabel='age', ylabel='education'>"
      ]
     },
     "execution_count": 130,
     "metadata": {},
     "output_type": "execute_result"
    },
    {
     "data": {
      "image/png": "[encoded data removed]",
      "text/plain": [
       "<Figure size 432x288 with 1 Axes>"
      ]
     },
     "metadata": {
      "needs_background": "light"
     },
     "output_type": "display_data"
    }
   ],
   "source": [
    "# box plot\n",
    "sns.boxplot(data=df,x='age',y='education')"
   ]
  },
  {
   "cell_type": "code",
   "execution_count": 31,
   "id": "5ad345f7",
   "metadata": {},
   "outputs": [
    {
     "data": {
      "text/plain": [
       "<AxesSubplot:xlabel='balance', ylabel='Count'>"
      ]
     },
     "execution_count": 31,
     "metadata": {},
     "output_type": "execute_result"
    },
    {
     "data": {
      "image/png": "[encoded data removed]",
      "text/plain": [
       "<Figure size 432x288 with 1 Axes>"
      ]
     },
     "metadata": {
      "needs_background": "light"
     },
     "output_type": "display_data"
    }
   ],
   "source": [
    "# General observation about age\n",
    "sns.histplot(df['balance'])\n",
    "#plt.xlabel('balance')\n",
    "#plt.ylabel('frequency')"
   ]
  },
  {
   "cell_type": "code",
   "execution_count": 32,
   "id": "fd4323ae",
   "metadata": {},
   "outputs": [
    {
     "data": {
      "text/plain": [
       "<AxesSubplot:xlabel='balance'>"
      ]
     },
     "execution_count": 32,
     "metadata": {},
     "output_type": "execute_result"
    },
    {
     "data": {
      "image/png": "[encoded data removed]",
      "text/plain": [
       "<Figure size 432x288 with 1 Axes>"
      ]
     },
     "metadata": {
      "needs_background": "light"
     },
     "output_type": "display_data"
    }
   ],
   "source": [
    "\n",
    "sns.histplot(df['balance'])\n"
   ]
  },
  {
   "cell_type": "code",
   "execution_count": 33,
   "id": "c720bdec",
   "metadata": {},
   "outputs": [
    {
     "name": "stderr",
     "output_type": "stream",
     "text": [
      "C:\\Users\\ahmad106\\anaconda3\\lib\\site-packages\\pandas\\core\\arraylike.py:402: RuntimeWarning: divide by zero encountered in log\n",
      "  result = getattr(ufunc, method)(*inputs, **kwargs)\n",
      "C:\\Users\\ahmad106\\anaconda3\\lib\\site-packages\\pandas\\core\\arraylike.py:402: RuntimeWarning: invalid value encountered in log\n",
      "  result = getattr(ufunc, method)(*inputs, **kwargs)\n"
     ]
    },
    {
     "data": {
      "text/plain": [
       "<AxesSubplot:xlabel='balance', ylabel='Count'>"
      ]
     },
     "execution_count": 33,
     "metadata": {},
     "output_type": "execute_result"
    },
    {
     "data": {
      "image/png": "[encoded data removed]",
      "text/plain": [
       "<Figure size 432x288 with 1 Axes>"
      ]
     },
     "metadata": {
      "needs_background": "light"
     },
     "output_type": "display_data"
    }
   ],
   "source": [
    "# log transformation\n",
    "x=np.log(df['balance'])\n",
    "sns.histplot(x)"
   ]
  },
  {
   "cell_type": "code",
   "execution_count": 34,
   "id": "4362defb",
   "metadata": {},
   "outputs": [
    {
     "data": {
      "text/plain": [
       "<AxesSubplot:xlabel='day', ylabel='Count'>"
      ]
     },
     "execution_count": 34,
     "metadata": {},
     "output_type": "execute_result"
    },
    {
     "data": {
      "image/png": "[encoded data removed]",
      "text/plain": [
       "<Figure size 432x288 with 1 Axes>"
      ]
     },
     "metadata": {
      "needs_background": "light"
     },
     "output_type": "display_data"
    }
   ],
   "source": [
    "sns.histplot(df['day'])"
   ]
  },
  {
   "cell_type": "code",
   "execution_count": 37,
   "id": "567f9ace",
   "metadata": {
    "scrolled": false
   },
   "outputs": [
    {
     "name": "stderr",
     "output_type": "stream",
     "text": [
      "C:\\Users\\ahmad106\\anaconda3\\lib\\site-packages\\seaborn\\_decorators.py:36: FutureWarning: Pass the following variable as a keyword arg: x. From version 0.12, the only valid positional argument will be `data`, and passing other arguments without an explicit keyword will result in an error or misinterpretation.\n",
      "  warnings.warn(\n"
     ]
    },
    {
     "data": {
      "text/plain": [
       "Text(0.5, 0, 'day')"
      ]
     },
     "execution_count": 37,
     "metadata": {},
     "output_type": "execute_result"
    },
    {
     "data": {
      "image/png": "[encoded data removed]",
      "text/plain": [
       "<Figure size 432x288 with 1 Axes>"
      ]
     },
     "metadata": {
      "needs_background": "light"
     },
     "output_type": "display_data"
    }
   ],
   "source": [
    "sns.boxplot(df['day'])\n",
    "plt.xlabel('day')"
   ]
  },
  {
   "cell_type": "code",
   "execution_count": 42,
   "id": "702708cf",
   "metadata": {},
   "outputs": [
    {
     "data": {
      "text/plain": [
       "Text(0.5, 0, 'duration')"
      ]
     },
     "execution_count": 42,
     "metadata": {},
     "output_type": "execute_result"
    },
    {
     "data": {
      "image/png": "[encoded data removed]",
      "text/plain": [
       "<Figure size 432x288 with 1 Axes>"
      ]
     },
     "metadata": {
      "needs_background": "light"
     },
     "output_type": "display_data"
    }
   ],
   "source": [
    "sns.histplot(data=df,x='duration',hue='marital')\n",
    "plt.xlabel('duration')"
   ]
  },
  {
   "cell_type": "code",
   "execution_count": 43,
   "id": "83e4511c",
   "metadata": {},
   "outputs": [
    {
     "data": {
      "text/plain": [
       "Text(0.5, 0, 'duration')"
      ]
     },
     "execution_count": 43,
     "metadata": {},
     "output_type": "execute_result"
    },
    {
     "data": {
      "image/png": "[encoded data removed]",
      "text/plain": [
       "<Figure size 432x288 with 1 Axes>"
      ]
     },
     "metadata": {
      "needs_background": "light"
     },
     "output_type": "display_data"
    }
   ],
   "source": [
    "sns.boxplot(data=df,x='duration',y='marital')\n",
    "plt.xlabel('duration')"
   ]
  },
  {
   "cell_type": "code",
   "execution_count": 45,
   "id": "58914a33",
   "metadata": {},
   "outputs": [
    {
     "data": {
      "text/plain": [
       "Text(0.5, 0, 'campaign')"
      ]
     },
     "execution_count": 45,
     "metadata": {},
     "output_type": "execute_result"
    },
    {
     "data": {
      "image/png": "[encoded data removed]",
      "text/plain": [
       "<Figure size 432x288 with 1 Axes>"
      ]
     },
     "metadata": {
      "needs_background": "light"
     },
     "output_type": "display_data"
    }
   ],
   "source": [
    "sns.histplot(data=df,x='campaign')\n",
    "plt.xlabel('campaign')"
   ]
  },
  {
   "cell_type": "code",
   "execution_count": 51,
   "id": "b957f54d",
   "metadata": {},
   "outputs": [
    {
     "data": {
      "text/plain": [
       "Text(0.5, 0, 'campaign')"
      ]
     },
     "execution_count": 51,
     "metadata": {},
     "output_type": "execute_result"
    },
    {
     "data": {
      "image/png": "[encoded data removed]",
      "text/plain": [
       "<Figure size 432x288 with 1 Axes>"
      ]
     },
     "metadata": {
      "needs_background": "light"
     },
     "output_type": "display_data"
    }
   ],
   "source": [
    "sns.boxplot(data=df,x='campaign',y='y')\n",
    "plt.xlabel('campaign')"
   ]
  },
  {
   "cell_type": "code",
   "execution_count": 50,
   "id": "8e4fffcc",
   "metadata": {},
   "outputs": [
    {
     "data": {
      "text/plain": [
       "Text(0.5, 0, 'pdays')"
      ]
     },
     "execution_count": 50,
     "metadata": {},
     "output_type": "execute_result"
    },
    {
     "data": {
      "image/png": "[encoded data removed]",
      "text/plain": [
       "<Figure size 432x288 with 1 Axes>"
      ]
     },
     "metadata": {
      "needs_background": "light"
     },
     "output_type": "display_data"
    }
   ],
   "source": [
    "sns.histplot(data=df,x='pdays')\n",
    "plt.xlabel('pdays')"
   ]
  },
  {
   "cell_type": "code",
   "execution_count": 9,
   "id": "c3e71940",
   "metadata": {},
   "outputs": [
    {
     "data": {
      "text/plain": [
       "<AxesSubplot:>"
      ]
     },
     "execution_count": 9,
     "metadata": {},
     "output_type": "execute_result"
    },
    {
     "data": {
      "image/png": "[encoded data removed]",
      "text/plain": [
       "<Figure size 600x400 with 2 Axes>"
      ]
     },
     "metadata": {
      "needs_background": "light"
     },
     "output_type": "display_data"
    }
   ],
   "source": [
    "# Correlation matrix\n",
    "plt.figure(figsize=(6, 4), dpi=100)\n",
    "x=df[['age','balance','day','duration','campaign','pdays','previous']]\n",
    "sns.heatmap(x.corr(), annot=True)"
   ]
  },
  {
   "cell_type": "code",
   "execution_count": null,
   "id": "d04c2767",
   "metadata": {},
   "outputs": [],
   "source": [
    "# Chisquare:\n",
    "from scipy.stats import chisquare\n"
   ]
  },
  {
   "cell_type": "code",
   "execution_count": 132,
   "id": "72c7e0b3",
   "metadata": {},
   "outputs": [
    {
     "name": "stderr",
     "output_type": "stream",
     "text": [
      "C:\\Users\\ahmad106\\anaconda3\\lib\\site-packages\\pandas\\core\\arraylike.py:402: RuntimeWarning: divide by zero encountered in log\n",
      "  result = getattr(ufunc, method)(*inputs, **kwargs)\n",
      "C:\\Users\\ahmad106\\anaconda3\\lib\\site-packages\\pandas\\core\\arraylike.py:402: RuntimeWarning: invalid value encountered in log\n",
      "  result = getattr(ufunc, method)(*inputs, **kwargs)\n"
     ]
    },
    {
     "data": {
      "text/plain": [
       "<matplotlib.collections.PathCollection at 0x254f17e5820>"
      ]
     },
     "execution_count": 132,
     "metadata": {},
     "output_type": "execute_result"
    },
    {
     "data": {
      "image/png": "[encoded data removed]",
      "text/plain": [
       "<Figure size 432x288 with 1 Axes>"
      ]
     },
     "metadata": {
      "needs_background": "light"
     },
     "output_type": "display_data"
    }
   ],
   "source": [
    "#\n",
    "plt.scatter(np.log(df['previous']),np.log(df['pdays']))"
   ]
  },
  {
   "cell_type": "code",
   "execution_count": 196,
   "id": "c2160fb4",
   "metadata": {},
   "outputs": [
    {
     "data": {
      "text/plain": [
       "<AxesSubplot:xlabel='previous', ylabel='pdays'>"
      ]
     },
     "execution_count": 196,
     "metadata": {},
     "output_type": "execute_result"
    },
    {
     "data": {
      "image/png": "[encoded data removed]",
      "text/plain": [
       "<Figure size 800x400 with 1 Axes>"
      ]
     },
     "metadata": {
      "needs_background": "light"
     },
     "output_type": "display_data"
    }
   ],
   "source": [
    "#plt.scatter(df['previous'],df['pdays'])\n",
    "plt.figure(figsize=(8, 4), dpi=100)\n",
    "sns.scatterplot(data=df,x='previous',y='pdays',hue='y')\n"
   ]
  },
  {
   "cell_type": "code",
   "execution_count": 481,
   "id": "7a8f93f3",
   "metadata": {},
   "outputs": [
    {
     "data": {
      "text/plain": [
       "Text(2000, 16, 'High subsription rate when number of contact<15')"
      ]
     },
     "execution_count": 481,
     "metadata": {},
     "output_type": "execute_result"
    },
    {
     "data": {
      "image/png": "[encoded data removed]",
      "text/plain": [
       "<Figure size 800x400 with 1 Axes>"
      ]
     },
     "metadata": {
      "needs_background": "light"
     },
     "output_type": "display_data"
    }
   ],
   "source": [
    "plt.figure(figsize=(8, 4), dpi=100)\n",
    "sns.scatterplot(data=df,x='duration',y='campaign',hue='y')\n",
    "plt.axhline(y=15,color='black')\n",
    "plt.ylabel('number of contacts')\n",
    "plt.text(2000,16, 'High subsription rate when number of contact<15', fontsize =10)\n"
   ]
  },
  {
   "cell_type": "code",
   "execution_count": 199,
   "id": "eac756bc",
   "metadata": {},
   "outputs": [
    {
     "data": {
      "text/plain": [
       "[24.59822272641331,\n",
       " 15.882019285309132,\n",
       " 13.386273397617698,\n",
       " 11.930421629797694,\n",
       " 9.75609756097561,\n",
       " 6.976744186046512,\n",
       " 5.086027604462092,\n",
       " 3.8192474948005297,\n",
       " 3.5356400075628667,\n",
       " 2.3255813953488373,\n",
       " 2.0608810739270185,\n",
       " 0.642843637738703]"
      ]
     },
     "execution_count": 199,
     "metadata": {},
     "output_type": "execute_result"
    }
   ],
   "source": [
    "values"
   ]
  },
  {
   "cell_type": "code",
   "execution_count": 212,
   "id": "3a1219c8",
   "metadata": {},
   "outputs": [
    {
     "data": {
      "text/plain": [
       "unknown           0.642844\n",
       "housemaid         2.060881\n",
       "entrepreneur      2.325581\n",
       "self-employed     3.535640\n",
       "unemployed        3.819247\n",
       "student           5.086028\n",
       "services          6.976744\n",
       "retired           9.756098\n",
       "admin.           11.930422\n",
       "blue-collar      13.386273\n",
       "technician       15.882019\n",
       "management       24.598223\n",
       "Name: job, dtype: float64"
      ]
     },
     "execution_count": 212,
     "metadata": {},
     "output_type": "execute_result"
    }
   ],
   "source": [
    "count=new_df[categorical_feature].value_counts(normalize=True).sort_values()*100\n",
    "count"
   ]
  },
  {
   "cell_type": "code",
   "execution_count": 421,
   "id": "8af08c8d",
   "metadata": {},
   "outputs": [
    {
     "data": {
      "text/plain": [
       "unknown            34\n",
       "housemaid         109\n",
       "entrepreneur      123\n",
       "self-employed     187\n",
       "unemployed        202\n",
       "student           269\n",
       "services          369\n",
       "retired           516\n",
       "admin.            631\n",
       "blue-collar       708\n",
       "technician        840\n",
       "management       1301\n",
       "Name: job, dtype: int64"
      ]
     },
     "execution_count": 421,
     "metadata": {},
     "output_type": "execute_result"
    }
   ],
   "source": [
    "categorical_feature='job'\n",
    "new_df=df[df['y']=='yes']\n",
    "count=new_df[categorical_feature].value_counts().sort_values()\n",
    "count"
   ]
  },
  {
   "cell_type": "code",
   "execution_count": 420,
   "id": "937157a3",
   "metadata": {},
   "outputs": [
    {
     "data": {
      "image/png": "[encoded data removed]",
      "text/plain": [
       "<Figure size 800x400 with 1 Axes>"
      ]
     },
     "metadata": {
      "needs_background": "light"
     },
     "output_type": "display_data"
    }
   ],
   "source": [
    "# Subsription rate by Job\n",
    "categorical_feature='job'\n",
    "new_df=df[df['y']=='yes']\n",
    "count=new_df[categorical_feature].value_counts().sort_values()\n",
    "labels=list(count.index)\n",
    "values=list(count)\n",
    "bar_colors = ['tab:blue']\n",
    "plt.figure(figsize=(8, 4), dpi=100)\n",
    "#fig,ax=plt.subplots()\n",
    "plt.barh(labels,values,color=bar_colors)\n",
    "plt.xlabel('Subscription %')\n",
    "plt.ylabel('Type of Job')\n",
    "plt.xlim(0,30)\n",
    "j=0\n",
    "for i in values:\n",
    "    plt.text(int(i)+1,j-0.25,'{}%'.format(round(i,2)), fontsize =10)\n",
    "    j=j+1\n",
    "plt.show()"
   ]
  },
  {
   "cell_type": "code",
   "execution_count": 476,
   "id": "4e9c0bf6",
   "metadata": {},
   "outputs": [
    {
     "data": {
      "image/png": "[encoded data removed]",
      "text/plain": [
       "<Figure size 800x400 with 1 Axes>"
      ]
     },
     "metadata": {
      "needs_background": "light"
     },
     "output_type": "display_data"
    }
   ],
   "source": [
    "# Subsription rate by Job\n",
    "categorical_feature='job'\n",
    "new_df=df\n",
    "count=new_df[categorical_feature].value_counts(normalize=True).sort_values()*100\n",
    "labels=list(count.index)\n",
    "values=list(count)\n",
    "bar_colors = ['tab:orange']\n",
    "plt.figure(figsize=(8, 4), dpi=100)\n",
    "#fig,ax=plt.subplots()\n",
    "plt.barh(labels,values,color=bar_colors)\n",
    "plt.xlabel('%Contact')\n",
    "plt.ylabel('Type of Job')\n",
    "plt.xlim(0,35)\n",
    "j=0\n",
    "for i in values:\n",
    "    plt.text(int(i)+1,j-0.25,'{}%'.format(round(i,2)), fontsize =10)\n",
    "    j=j+1"
   ]
  },
  {
   "cell_type": "code",
   "execution_count": 454,
   "id": "f011d13f",
   "metadata": {},
   "outputs": [],
   "source": [
    "subscription_count=df[df['y']=='yes']['job'].value_counts()\n",
    "overall_count=df['job'].value_counts()\n",
    "cols=list(subscription_count.index)"
   ]
  },
  {
   "cell_type": "code",
   "execution_count": 448,
   "id": "190a0344",
   "metadata": {},
   "outputs": [
    {
     "data": {
      "text/plain": [
       "9732"
      ]
     },
     "execution_count": 448,
     "metadata": {},
     "output_type": "execute_result"
    }
   ],
   "source": [
    "overall_count['blue-collar']"
   ]
  },
  {
   "cell_type": "code",
   "execution_count": 431,
   "id": "b9c1cfb4",
   "metadata": {},
   "outputs": [
    {
     "data": {
      "text/plain": [
       "blue-collar      9732\n",
       "management       9458\n",
       "technician       7597\n",
       "admin.           5171\n",
       "services         4154\n",
       "retired          2264\n",
       "self-employed    1579\n",
       "entrepreneur     1487\n",
       "unemployed       1303\n",
       "housemaid        1240\n",
       "student           938\n",
       "unknown           288\n",
       "Name: job, dtype: int64"
      ]
     },
     "execution_count": 431,
     "metadata": {},
     "output_type": "execute_result"
    }
   ],
   "source": [
    "overall_count"
   ]
  },
  {
   "cell_type": "code",
   "execution_count": 466,
   "id": "920ed47b",
   "metadata": {},
   "outputs": [
    {
     "name": "stdout",
     "output_type": "stream",
     "text": [
      "(7.274969173859433, 'blue-collar')\n",
      "(8.271687962340282, 'entrepreneur')\n",
      "(8.790322580645162, 'housemaid')\n",
      "(8.883004333172845, 'services')\n",
      "(11.056996182703699, 'technician')\n",
      "(11.805555555555555, 'unknown')\n",
      "(11.842938568714375, 'self-employed')\n",
      "(12.202668729452718, 'admin.')\n",
      "(13.755550856417848, 'management')\n",
      "(15.502686108979278, 'unemployed')\n",
      "(22.791519434628974, 'retired')\n",
      "(28.678038379530918, 'student')\n"
     ]
    }
   ],
   "source": [
    "job_wise_subscribed=[]\n",
    "job_wise_overall=[]\n",
    "labels=[]\n",
    "value=[]\n",
    "n=len(df)\n",
    "for i in cols:\n",
    "    job_wise_subscribed.append((subscription_count[i]*100/overall_count[i],i))\n",
    "    job_wise_overall.append((overall_count[i]*100/n,i))\n",
    "job_wise_subscribed.sort()\n",
    "for i in job_wise_subscribed:\n",
    "    print(i)\n",
    "    labels.append(i[1])\n",
    "    value.append(round(i[0],2))"
   ]
  },
  {
   "cell_type": "code",
   "execution_count": 475,
   "id": "6b6fc92b",
   "metadata": {
    "scrolled": true
   },
   "outputs": [
    {
     "data": {
      "image/png": "[encoded data removed]",
      "text/plain": [
       "<Figure size 800x400 with 1 Axes>"
      ]
     },
     "metadata": {
      "needs_background": "light"
     },
     "output_type": "display_data"
    }
   ],
   "source": [
    "# Subsription rate by Job\n",
    "bar_colors = ['tab:blue']\n",
    "plt.figure(figsize=(8, 4), dpi=100)\n",
    "#fig,ax=plt.subplots()\n",
    "plt.barh(labels,value,color=bar_colors)\n",
    "plt.xlabel('%Subscribed')\n",
    "plt.ylabel('Type of Job')\n",
    "plt.xlim(0,35)\n",
    "j=0\n",
    "for i in value:\n",
    "    plt.text(int(i)+1,j-0.25,'{}%'.format(i, fontsize =10))\n",
    "    j=j+1"
   ]
  },
  {
   "cell_type": "code",
   "execution_count": 447,
   "id": "ee35a45a",
   "metadata": {},
   "outputs": [
    {
     "data": {
      "text/plain": [
       "[(7.274969173859433, 'blue-collar'),\n",
       " (8.271687962340282, 'entrepreneur'),\n",
       " (8.790322580645162, 'housemaid'),\n",
       " (8.883004333172845, 'services'),\n",
       " (11.056996182703699, 'technician'),\n",
       " (11.805555555555555, 'unknown'),\n",
       " (11.842938568714375, 'self-employed'),\n",
       " (12.202668729452718, 'admin.'),\n",
       " (13.755550856417848, 'management'),\n",
       " (15.502686108979278, 'unemployed'),\n",
       " (22.791519434628974, 'retired'),\n",
       " (28.678038379530918, 'student')]"
      ]
     },
     "execution_count": 447,
     "metadata": {},
     "output_type": "execute_result"
    }
   ],
   "source": [
    "job_wise_overall.sort()\n",
    "for i in job_wise_subscribed:\n",
    "    print(i)\n",
    "    labels.append(i[1])\n",
    "    value.append(round(i[0],2))"
   ]
  },
  {
   "cell_type": "code",
   "execution_count": 457,
   "id": "1185ab94",
   "metadata": {},
   "outputs": [
    {
     "data": {
      "text/plain": [
       "['blue-collar',\n",
       " 'entrepreneur',\n",
       " 'housemaid',\n",
       " 'services',\n",
       " 'technician',\n",
       " 'unknown',\n",
       " 'self-employed',\n",
       " 'admin.',\n",
       " 'management',\n",
       " 'unemployed',\n",
       " 'retired',\n",
       " 'student']"
      ]
     },
     "execution_count": 457,
     "metadata": {},
     "output_type": "execute_result"
    }
   ],
   "source": [
    "labels"
   ]
  },
  {
   "cell_type": "code",
   "execution_count": 298,
   "id": "9421cc85",
   "metadata": {},
   "outputs": [],
   "source": [
    "subscription_count=df[df['y']=='yes']['month'].value_counts()\n",
    "overall_count=df['month'].value_counts()\n",
    "month=['jan','feb','mar','apr','may','jun','jul','aug','sep','oct','nov','dec']"
   ]
  },
  {
   "cell_type": "code",
   "execution_count": 299,
   "id": "6f30c349",
   "metadata": {},
   "outputs": [],
   "source": [
    "month_wise_subscribed=[]\n",
    "month_wise_overall=[]\n",
    "n=len(df)\n",
    "for i in month:\n",
    "    month_wise_subscribed.append(subscription_count[i]*100/overall_count[i])\n",
    "    month_wise_overall.append(overall_count[i]*100/n)"
   ]
  },
  {
   "cell_type": "code",
   "execution_count": 326,
   "id": "55fcb8c6",
   "metadata": {},
   "outputs": [
    {
     "data": {
      "text/plain": [
       "Text(0, 0.5, 'Percentage')"
      ]
     },
     "execution_count": 326,
     "metadata": {},
     "output_type": "execute_result"
    },
    {
     "data": {
      "image/png": "[encoded data removed]",
      "text/plain": [
       "<Figure size 1500x600 with 1 Axes>"
      ]
     },
     "metadata": {
      "needs_background": "light"
     },
     "output_type": "display_data"
    }
   ],
   "source": [
    "a=len(df[df['y']=='yes'])*100/len(df)\n",
    "plt.figure(figsize=(15, 6), dpi=100)\n",
    "plt.plot(month,month_wise_subscribed,color='green',marker='o')\n",
    "plt.plot(month,month_wise_overall,color='orange',marker='o')\n",
    "plt.axhline(y=a,color='black',linestyle='dashed')\n",
    "plt.legend(('%Subscription','%Contacted','avg subscription rate'))\n",
    "plt.xlabel('Month')\n",
    "plt.ylabel('Percentage')"
   ]
  },
  {
   "cell_type": "code",
   "execution_count": 343,
   "id": "9f1914bf",
   "metadata": {},
   "outputs": [
    {
     "data": {
      "text/html": [
       "<div>\n",
       "<style scoped>\n",
       "    .dataframe tbody tr th:only-of-type {\n",
       "        vertical-align: middle;\n",
       "    }\n",
       "\n",
       "    .dataframe tbody tr th {\n",
       "        vertical-align: top;\n",
       "    }\n",
       "\n",
       "    .dataframe thead th {\n",
       "        text-align: right;\n",
       "    }\n",
       "</style>\n",
       "<table border=\"1\" class=\"dataframe\">\n",
       "  <thead>\n",
       "    <tr style=\"text-align: right;\">\n",
       "      <th></th>\n",
       "      <th></th>\n",
       "      <th>age</th>\n",
       "      <th>job</th>\n",
       "      <th>marital</th>\n",
       "      <th>education</th>\n",
       "      <th>balance</th>\n",
       "      <th>housing</th>\n",
       "      <th>contact</th>\n",
       "      <th>day</th>\n",
       "      <th>month</th>\n",
       "      <th>duration</th>\n",
       "      <th>campaign</th>\n",
       "      <th>pdays</th>\n",
       "      <th>previous</th>\n",
       "      <th>poutcome</th>\n",
       "      <th>y</th>\n",
       "    </tr>\n",
       "    <tr>\n",
       "      <th>default</th>\n",
       "      <th>loan</th>\n",
       "      <th></th>\n",
       "      <th></th>\n",
       "      <th></th>\n",
       "      <th></th>\n",
       "      <th></th>\n",
       "      <th></th>\n",
       "      <th></th>\n",
       "      <th></th>\n",
       "      <th></th>\n",
       "      <th></th>\n",
       "      <th></th>\n",
       "      <th></th>\n",
       "      <th></th>\n",
       "      <th></th>\n",
       "      <th></th>\n",
       "    </tr>\n",
       "  </thead>\n",
       "  <tbody>\n",
       "    <tr>\n",
       "      <th rowspan=\"2\" valign=\"top\">no</th>\n",
       "      <th>no</th>\n",
       "      <td>37453</td>\n",
       "      <td>37453</td>\n",
       "      <td>37453</td>\n",
       "      <td>37453</td>\n",
       "      <td>37453</td>\n",
       "      <td>37453</td>\n",
       "      <td>37453</td>\n",
       "      <td>37453</td>\n",
       "      <td>37453</td>\n",
       "      <td>37453</td>\n",
       "      <td>37453</td>\n",
       "      <td>37453</td>\n",
       "      <td>37453</td>\n",
       "      <td>37453</td>\n",
       "      <td>37453</td>\n",
       "    </tr>\n",
       "    <tr>\n",
       "      <th>yes</th>\n",
       "      <td>6943</td>\n",
       "      <td>6943</td>\n",
       "      <td>6943</td>\n",
       "      <td>6943</td>\n",
       "      <td>6943</td>\n",
       "      <td>6943</td>\n",
       "      <td>6943</td>\n",
       "      <td>6943</td>\n",
       "      <td>6943</td>\n",
       "      <td>6943</td>\n",
       "      <td>6943</td>\n",
       "      <td>6943</td>\n",
       "      <td>6943</td>\n",
       "      <td>6943</td>\n",
       "      <td>6943</td>\n",
       "    </tr>\n",
       "    <tr>\n",
       "      <th rowspan=\"2\" valign=\"top\">yes</th>\n",
       "      <th>no</th>\n",
       "      <td>514</td>\n",
       "      <td>514</td>\n",
       "      <td>514</td>\n",
       "      <td>514</td>\n",
       "      <td>514</td>\n",
       "      <td>514</td>\n",
       "      <td>514</td>\n",
       "      <td>514</td>\n",
       "      <td>514</td>\n",
       "      <td>514</td>\n",
       "      <td>514</td>\n",
       "      <td>514</td>\n",
       "      <td>514</td>\n",
       "      <td>514</td>\n",
       "      <td>514</td>\n",
       "    </tr>\n",
       "    <tr>\n",
       "      <th>yes</th>\n",
       "      <td>301</td>\n",
       "      <td>301</td>\n",
       "      <td>301</td>\n",
       "      <td>301</td>\n",
       "      <td>301</td>\n",
       "      <td>301</td>\n",
       "      <td>301</td>\n",
       "      <td>301</td>\n",
       "      <td>301</td>\n",
       "      <td>301</td>\n",
       "      <td>301</td>\n",
       "      <td>301</td>\n",
       "      <td>301</td>\n",
       "      <td>301</td>\n",
       "      <td>301</td>\n",
       "    </tr>\n",
       "  </tbody>\n",
       "</table>\n",
       "</div>"
      ],
      "text/plain": [
       "                age    job  marital  education  balance  housing  contact  \\\n",
       "default loan                                                                \n",
       "no      no    37453  37453    37453      37453    37453    37453    37453   \n",
       "        yes    6943   6943     6943       6943     6943     6943     6943   \n",
       "yes     no      514    514      514        514      514      514      514   \n",
       "        yes     301    301      301        301      301      301      301   \n",
       "\n",
       "                day  month  duration  campaign  pdays  previous  poutcome  \\\n",
       "default loan                                                                \n",
       "no      no    37453  37453     37453     37453  37453     37453     37453   \n",
       "        yes    6943   6943      6943      6943   6943      6943      6943   \n",
       "yes     no      514    514       514       514    514       514       514   \n",
       "        yes     301    301       301       301    301       301       301   \n",
       "\n",
       "                  y  \n",
       "default loan         \n",
       "no      no    37453  \n",
       "        yes    6943  \n",
       "yes     no      514  \n",
       "        yes     301  "
      ]
     },
     "execution_count": 343,
     "metadata": {},
     "output_type": "execute_result"
    }
   ],
   "source": [
    "df.groupby(['default','loan']).count()"
   ]
  },
  {
   "cell_type": "markdown",
   "id": "c51c51b6",
   "metadata": {},
   "source": [
    "### Chisquare Test"
   ]
  },
  {
   "cell_type": "code",
   "execution_count": 8,
   "id": "d3a7da69",
   "metadata": {},
   "outputs": [
    {
     "data": {
      "text/plain": [
       "Index(['age', 'job', 'marital', 'education', 'default', 'balance', 'housing',\n",
       "       'loan', 'contact', 'day', 'month', 'duration', 'campaign', 'pdays',\n",
       "       'previous', 'poutcome', 'y'],\n",
       "      dtype='object')"
      ]
     },
     "execution_count": 8,
     "metadata": {},
     "output_type": "execute_result"
    }
   ],
   "source": [
    "df.columns"
   ]
  },
  {
   "cell_type": "code",
   "execution_count": 9,
   "id": "0c4167be",
   "metadata": {},
   "outputs": [],
   "source": [
    "import scipy.stats as stats"
   ]
  },
  {
   "cell_type": "code",
   "execution_count": null,
   "id": "9eda0272",
   "metadata": {},
   "outputs": [],
   "source": [
    "tab=pd.crosstab(df['default'],df['loan'],margins=True)\n",
    "tab.columns=['No','Yes','row_counts']\n",
    "tab.index=['No','Yes','col_counts']\n",
    "observed=tab.iloc[0:2,0:2]\n",
    "observed\n",
    "n=len(df)\n",
    "expected=np.outer(tab['row_counts'][0:2],tab.loc['col_counts'][0:2])/n\n",
    "expected\n",
    "expected=pd.DataFrame(expected)\n",
    "expected.columns=['No','Yes']\n",
    "expected.index=['No','Yes']\n",
    "expected\n",
    "chisquare_stat=((observed-expected)**2/expected).sum().sum()\n",
    "chisquare_stat\n",
    "tcrit=stats.chi2.ppf(q=0.95, df=1)\n",
    "tcrit\n",
    "p_value=1-stats.chi2.cdf(x=chisquare_stat,df=1)"
   ]
  },
  {
   "cell_type": "code",
   "execution_count": 10,
   "id": "eccfd816",
   "metadata": {},
   "outputs": [],
   "source": [
    "tab=pd.crosstab(df['default'],df['loan'],margins=True)"
   ]
  },
  {
   "cell_type": "code",
   "execution_count": 11,
   "id": "18440604",
   "metadata": {},
   "outputs": [
    {
     "data": {
      "text/html": [
       "<div>\n",
       "<style scoped>\n",
       "    .dataframe tbody tr th:only-of-type {\n",
       "        vertical-align: middle;\n",
       "    }\n",
       "\n",
       "    .dataframe tbody tr th {\n",
       "        vertical-align: top;\n",
       "    }\n",
       "\n",
       "    .dataframe thead th {\n",
       "        text-align: right;\n",
       "    }\n",
       "</style>\n",
       "<table border=\"1\" class=\"dataframe\">\n",
       "  <thead>\n",
       "    <tr style=\"text-align: right;\">\n",
       "      <th>loan</th>\n",
       "      <th>no</th>\n",
       "      <th>yes</th>\n",
       "      <th>All</th>\n",
       "    </tr>\n",
       "    <tr>\n",
       "      <th>default</th>\n",
       "      <th></th>\n",
       "      <th></th>\n",
       "      <th></th>\n",
       "    </tr>\n",
       "  </thead>\n",
       "  <tbody>\n",
       "    <tr>\n",
       "      <th>no</th>\n",
       "      <td>37453</td>\n",
       "      <td>6943</td>\n",
       "      <td>44396</td>\n",
       "    </tr>\n",
       "    <tr>\n",
       "      <th>yes</th>\n",
       "      <td>514</td>\n",
       "      <td>301</td>\n",
       "      <td>815</td>\n",
       "    </tr>\n",
       "    <tr>\n",
       "      <th>All</th>\n",
       "      <td>37967</td>\n",
       "      <td>7244</td>\n",
       "      <td>45211</td>\n",
       "    </tr>\n",
       "  </tbody>\n",
       "</table>\n",
       "</div>"
      ],
      "text/plain": [
       "loan        no   yes    All\n",
       "default                    \n",
       "no       37453  6943  44396\n",
       "yes        514   301    815\n",
       "All      37967  7244  45211"
      ]
     },
     "execution_count": 11,
     "metadata": {},
     "output_type": "execute_result"
    }
   ],
   "source": [
    "tab"
   ]
  },
  {
   "cell_type": "code",
   "execution_count": 361,
   "id": "48e58c01",
   "metadata": {},
   "outputs": [
    {
     "data": {
      "text/html": [
       "<div>\n",
       "<style scoped>\n",
       "    .dataframe tbody tr th:only-of-type {\n",
       "        vertical-align: middle;\n",
       "    }\n",
       "\n",
       "    .dataframe tbody tr th {\n",
       "        vertical-align: top;\n",
       "    }\n",
       "\n",
       "    .dataframe thead th {\n",
       "        text-align: right;\n",
       "    }\n",
       "</style>\n",
       "<table border=\"1\" class=\"dataframe\">\n",
       "  <thead>\n",
       "    <tr style=\"text-align: right;\">\n",
       "      <th></th>\n",
       "      <th>No</th>\n",
       "      <th>Yes</th>\n",
       "      <th>row_counts</th>\n",
       "    </tr>\n",
       "  </thead>\n",
       "  <tbody>\n",
       "    <tr>\n",
       "      <th>No</th>\n",
       "      <td>37453</td>\n",
       "      <td>6943</td>\n",
       "      <td>44396</td>\n",
       "    </tr>\n",
       "    <tr>\n",
       "      <th>Yes</th>\n",
       "      <td>514</td>\n",
       "      <td>301</td>\n",
       "      <td>815</td>\n",
       "    </tr>\n",
       "    <tr>\n",
       "      <th>col_counts</th>\n",
       "      <td>37967</td>\n",
       "      <td>7244</td>\n",
       "      <td>45211</td>\n",
       "    </tr>\n",
       "  </tbody>\n",
       "</table>\n",
       "</div>"
      ],
      "text/plain": [
       "               No   Yes  row_counts\n",
       "No          37453  6943       44396\n",
       "Yes           514   301         815\n",
       "col_counts  37967  7244       45211"
      ]
     },
     "execution_count": 361,
     "metadata": {},
     "output_type": "execute_result"
    }
   ],
   "source": [
    "tab.columns=['No','Yes','row_counts']\n",
    "tab.index=['No','Yes','col_counts']\n",
    "tab"
   ]
  },
  {
   "cell_type": "code",
   "execution_count": 348,
   "id": "a084daf5",
   "metadata": {},
   "outputs": [
    {
     "data": {
      "text/html": [
       "<div>\n",
       "<style scoped>\n",
       "    .dataframe tbody tr th:only-of-type {\n",
       "        vertical-align: middle;\n",
       "    }\n",
       "\n",
       "    .dataframe tbody tr th {\n",
       "        vertical-align: top;\n",
       "    }\n",
       "\n",
       "    .dataframe thead th {\n",
       "        text-align: right;\n",
       "    }\n",
       "</style>\n",
       "<table border=\"1\" class=\"dataframe\">\n",
       "  <thead>\n",
       "    <tr style=\"text-align: right;\">\n",
       "      <th></th>\n",
       "      <th>No</th>\n",
       "      <th>Yes</th>\n",
       "    </tr>\n",
       "  </thead>\n",
       "  <tbody>\n",
       "    <tr>\n",
       "      <th>No</th>\n",
       "      <td>37453</td>\n",
       "      <td>6943</td>\n",
       "    </tr>\n",
       "    <tr>\n",
       "      <th>Yes</th>\n",
       "      <td>514</td>\n",
       "      <td>301</td>\n",
       "    </tr>\n",
       "  </tbody>\n",
       "</table>\n",
       "</div>"
      ],
      "text/plain": [
       "        No   Yes\n",
       "No   37453  6943\n",
       "Yes    514   301"
      ]
     },
     "execution_count": 348,
     "metadata": {},
     "output_type": "execute_result"
    }
   ],
   "source": [
    "observed=tab.iloc[0:2,0:2]\n",
    "observed"
   ]
  },
  {
   "cell_type": "code",
   "execution_count": 363,
   "id": "8556604e",
   "metadata": {},
   "outputs": [
    {
     "data": {
      "text/plain": [
       "array([[37282.58459225,  7113.41540775],\n",
       "       [  684.41540775,   130.58459225]])"
      ]
     },
     "execution_count": 363,
     "metadata": {},
     "output_type": "execute_result"
    }
   ],
   "source": [
    "n=len(df)\n",
    "expected=np.outer(tab['row_counts'][0:2],tab.loc['col_counts'][0:2])/n\n",
    "expected"
   ]
  },
  {
   "cell_type": "code",
   "execution_count": 364,
   "id": "7a213c47",
   "metadata": {},
   "outputs": [
    {
     "data": {
      "text/html": [
       "<div>\n",
       "<style scoped>\n",
       "    .dataframe tbody tr th:only-of-type {\n",
       "        vertical-align: middle;\n",
       "    }\n",
       "\n",
       "    .dataframe tbody tr th {\n",
       "        vertical-align: top;\n",
       "    }\n",
       "\n",
       "    .dataframe thead th {\n",
       "        text-align: right;\n",
       "    }\n",
       "</style>\n",
       "<table border=\"1\" class=\"dataframe\">\n",
       "  <thead>\n",
       "    <tr style=\"text-align: right;\">\n",
       "      <th></th>\n",
       "      <th>No</th>\n",
       "      <th>Yes</th>\n",
       "    </tr>\n",
       "  </thead>\n",
       "  <tbody>\n",
       "    <tr>\n",
       "      <th>No</th>\n",
       "      <td>37282.584592</td>\n",
       "      <td>7113.415408</td>\n",
       "    </tr>\n",
       "    <tr>\n",
       "      <th>Yes</th>\n",
       "      <td>684.415408</td>\n",
       "      <td>130.584592</td>\n",
       "    </tr>\n",
       "  </tbody>\n",
       "</table>\n",
       "</div>"
      ],
      "text/plain": [
       "               No          Yes\n",
       "No   37282.584592  7113.415408\n",
       "Yes    684.415408   130.584592"
      ]
     },
     "execution_count": 364,
     "metadata": {},
     "output_type": "execute_result"
    }
   ],
   "source": [
    "expected=pd.DataFrame(expected)\n",
    "expected.columns=['No','Yes']\n",
    "expected.index=['No','Yes']\n",
    "expected"
   ]
  },
  {
   "cell_type": "code",
   "execution_count": 365,
   "id": "6cbbdaa8",
   "metadata": {},
   "outputs": [],
   "source": [
    "chisquare_stat=((observed-expected)**2/expected).sum().sum()"
   ]
  },
  {
   "cell_type": "code",
   "execution_count": 366,
   "id": "f765df93",
   "metadata": {},
   "outputs": [
    {
     "data": {
      "text/plain": [
       "269.689401785226"
      ]
     },
     "execution_count": 366,
     "metadata": {},
     "output_type": "execute_result"
    }
   ],
   "source": [
    "chisquare_stat"
   ]
  },
  {
   "cell_type": "code",
   "execution_count": 488,
   "id": "f1e12ab3",
   "metadata": {},
   "outputs": [
    {
     "data": {
      "text/plain": [
       "3.841458820694124"
      ]
     },
     "execution_count": 488,
     "metadata": {},
     "output_type": "execute_result"
    }
   ],
   "source": [
    "tcrit=stats.chi2.ppf(q=0.95, df=1)\n",
    "tcrit"
   ]
  },
  {
   "cell_type": "code",
   "execution_count": 494,
   "id": "40a30ae3",
   "metadata": {},
   "outputs": [],
   "source": [
    "p_value=stats.chi2.cdf(x=chisquare_stat,df=1)"
   ]
  },
  {
   "cell_type": "code",
   "execution_count": 495,
   "id": "eaf80353",
   "metadata": {},
   "outputs": [
    {
     "data": {
      "text/plain": [
       "0.0"
      ]
     },
     "execution_count": 495,
     "metadata": {},
     "output_type": "execute_result"
    }
   ],
   "source": [
    "np.log(p_value)"
   ]
  },
  {
   "cell_type": "code",
   "execution_count": 417,
   "id": "596e40be",
   "metadata": {},
   "outputs": [
    {
     "data": {
      "text/plain": [
       "failure    0.108403\n",
       "other      0.040698\n",
       "success    0.033421\n",
       "unknown    0.817478\n",
       "Name: poutcome, dtype: float64"
      ]
     },
     "execution_count": 417,
     "metadata": {},
     "output_type": "execute_result"
    }
   ],
   "source": [
    "z=df['poutcome'].value_counts(normalize=True).sort_index()\n",
    "z"
   ]
  },
  {
   "cell_type": "code",
   "execution_count": 414,
   "id": "20bf1c36",
   "metadata": {},
   "outputs": [],
   "source": [
    "cols=['default','housing','loan','y']"
   ]
  },
  {
   "cell_type": "code",
   "execution_count": 415,
   "id": "516e76a8",
   "metadata": {},
   "outputs": [],
   "source": [
    "data.append(list(z))"
   ]
  },
  {
   "cell_type": "code",
   "execution_count": 416,
   "id": "fa08a1b9",
   "metadata": {},
   "outputs": [
    {
     "data": {
      "text/plain": [
       "[[0.9819734135497998, 0.018026586450200173],\n",
       " [0.44416181902634316, 0.5558381809736569],\n",
       " [0.839773506447546, 0.16022649355245405],\n",
       " [0.8830151954170445, 0.11698480458295547]]"
      ]
     },
     "execution_count": 416,
     "metadata": {},
     "output_type": "execute_result"
    }
   ],
   "source": [
    "data"
   ]
  },
  {
   "cell_type": "code",
   "execution_count": 397,
   "id": "4dbdc93a",
   "metadata": {},
   "outputs": [
    {
     "data": {
      "text/plain": [
       "{'housing': {'yes': 55.583818097365686, 'no': 44.416181902634314},\n",
       " 'default': {'yes': 98.19734135497998, 'no': 1.8026586450200173}}"
      ]
     },
     "execution_count": 397,
     "metadata": {},
     "output_type": "execute_result"
    }
   ],
   "source": [
    "data_f=pd.DataFrame()"
   ]
  },
  {
   "cell_type": "code",
   "execution_count": null,
   "id": "dfabf933",
   "metadata": {},
   "outputs": [],
   "source": [
    "#default: 2 classes\n",
    "   #  v) housing: 2 classes\n",
    "    #vi) loan: 2 classes"
   ]
  },
  {
   "cell_type": "code",
   "execution_count": 22,
   "id": "e178210b",
   "metadata": {},
   "outputs": [
    {
     "data": {
      "text/plain": [
       "1.6413065178903097"
      ]
     },
     "execution_count": 22,
     "metadata": {},
     "output_type": "execute_result"
    }
   ],
   "source": [
    "tab=pd.crosstab(df['default'],df['housing'],margins=True)\n",
    "tab.columns=['No','Yes','row_counts']\n",
    "tab.index=['No','Yes','col_counts']\n",
    "observed=tab.iloc[0:2,0:2]\n",
    "observed\n",
    "n=len(df)\n",
    "expected=np.outer(tab['row_counts'][0:2],tab.loc['col_counts'][0:2])/n\n",
    "expected\n",
    "expected=pd.DataFrame(expected)\n",
    "expected.columns=['No','Yes']\n",
    "expected.index=['No','Yes']\n",
    "expected\n",
    "chisquare_stat=((observed-expected)**2/expected).sum().sum()\n",
    "chisquare_stat\n"
   ]
  },
  {
   "cell_type": "code",
   "execution_count": 23,
   "id": "c020a446",
   "metadata": {},
   "outputs": [
    {
     "data": {
      "text/plain": [
       "3.841458820694124"
      ]
     },
     "execution_count": 23,
     "metadata": {},
     "output_type": "execute_result"
    }
   ],
   "source": [
    "tcrit=stats.chi2.ppf(q=0.95, df=1)\n",
    "tcrit\n"
   ]
  },
  {
   "cell_type": "code",
   "execution_count": 24,
   "id": "2cc45cdc",
   "metadata": {},
   "outputs": [
    {
     "data": {
      "text/plain": [
       "0.20014630290508817"
      ]
     },
     "execution_count": 24,
     "metadata": {},
     "output_type": "execute_result"
    }
   ],
   "source": [
    "p_value=1-stats.chi2.cdf(x=chisquare_stat,df=1)\n",
    "p_value"
   ]
  },
  {
   "cell_type": "code",
   "execution_count": 25,
   "id": "d720a04d",
   "metadata": {},
   "outputs": [
    {
     "data": {
      "text/html": [
       "<div>\n",
       "<style scoped>\n",
       "    .dataframe tbody tr th:only-of-type {\n",
       "        vertical-align: middle;\n",
       "    }\n",
       "\n",
       "    .dataframe tbody tr th {\n",
       "        vertical-align: top;\n",
       "    }\n",
       "\n",
       "    .dataframe thead th {\n",
       "        text-align: right;\n",
       "    }\n",
       "</style>\n",
       "<table border=\"1\" class=\"dataframe\">\n",
       "  <thead>\n",
       "    <tr style=\"text-align: right;\">\n",
       "      <th>loan</th>\n",
       "      <th>no</th>\n",
       "      <th>yes</th>\n",
       "      <th>All</th>\n",
       "    </tr>\n",
       "    <tr>\n",
       "      <th>housing</th>\n",
       "      <th></th>\n",
       "      <th></th>\n",
       "      <th></th>\n",
       "    </tr>\n",
       "  </thead>\n",
       "  <tbody>\n",
       "    <tr>\n",
       "      <th>no</th>\n",
       "      <td>17204</td>\n",
       "      <td>2877</td>\n",
       "      <td>20081</td>\n",
       "    </tr>\n",
       "    <tr>\n",
       "      <th>yes</th>\n",
       "      <td>20763</td>\n",
       "      <td>4367</td>\n",
       "      <td>25130</td>\n",
       "    </tr>\n",
       "    <tr>\n",
       "      <th>All</th>\n",
       "      <td>37967</td>\n",
       "      <td>7244</td>\n",
       "      <td>45211</td>\n",
       "    </tr>\n",
       "  </tbody>\n",
       "</table>\n",
       "</div>"
      ],
      "text/plain": [
       "loan        no   yes    All\n",
       "housing                    \n",
       "no       17204  2877  20081\n",
       "yes      20763  4367  25130\n",
       "All      37967  7244  45211"
      ]
     },
     "execution_count": 25,
     "metadata": {},
     "output_type": "execute_result"
    }
   ],
   "source": [
    "tab=pd.crosstab(df['housing'],df['loan'],margins=True)\n",
    "tab"
   ]
  },
  {
   "cell_type": "code",
   "execution_count": 26,
   "id": "2f53a5cf",
   "metadata": {},
   "outputs": [
    {
     "data": {
      "text/html": [
       "<div>\n",
       "<style scoped>\n",
       "    .dataframe tbody tr th:only-of-type {\n",
       "        vertical-align: middle;\n",
       "    }\n",
       "\n",
       "    .dataframe tbody tr th {\n",
       "        vertical-align: top;\n",
       "    }\n",
       "\n",
       "    .dataframe thead th {\n",
       "        text-align: right;\n",
       "    }\n",
       "</style>\n",
       "<table border=\"1\" class=\"dataframe\">\n",
       "  <thead>\n",
       "    <tr style=\"text-align: right;\">\n",
       "      <th></th>\n",
       "      <th>No</th>\n",
       "      <th>Yes</th>\n",
       "    </tr>\n",
       "  </thead>\n",
       "  <tbody>\n",
       "    <tr>\n",
       "      <th>No</th>\n",
       "      <td>19719.008117</td>\n",
       "      <td>24676.991883</td>\n",
       "    </tr>\n",
       "    <tr>\n",
       "      <th>Yes</th>\n",
       "      <td>361.991883</td>\n",
       "      <td>453.008117</td>\n",
       "    </tr>\n",
       "  </tbody>\n",
       "</table>\n",
       "</div>"
      ],
      "text/plain": [
       "               No           Yes\n",
       "No   19719.008117  24676.991883\n",
       "Yes    361.991883    453.008117"
      ]
     },
     "execution_count": 26,
     "metadata": {},
     "output_type": "execute_result"
    }
   ],
   "source": [
    "expected"
   ]
  },
  {
   "cell_type": "code",
   "execution_count": 48,
   "id": "761a819c",
   "metadata": {},
   "outputs": [
    {
     "data": {
      "text/plain": [
       "28483.1364531764"
      ]
     },
     "execution_count": 48,
     "metadata": {},
     "output_type": "execute_result"
    }
   ],
   "source": [
    "tab=pd.crosstab(df['job'],df['education'],margins=True)\n",
    "tab.columns=['Primary','Secondary','tertiary','unknown','row_counts']\n",
    "tab.index=['admin.', 'blue-collar', 'entrepreneur', 'housemaid', 'management',\n",
    "       'retired', 'self-employed', 'services', 'student', 'technician',\n",
    "       'unemployed', 'unknown','col_counts']\n",
    "observed=tab.iloc[0:12,0:4]\n",
    "observed\n",
    "n=len(df)\n",
    "expected=np.outer(tab['row_counts'][0:12],tab.loc['col_counts'][0:4])/n\n",
    "expected\n",
    "expected=pd.DataFrame(expected)\n",
    "expected.columns=['Primary','Secondary','tertiary','unknown']\n",
    "expected.index=['admin.', 'blue-collar', 'entrepreneur', 'housemaid', 'management',\n",
    "       'retired', 'self-employed', 'services', 'student', 'technician',\n",
    "       'unemployed', 'unknown']\n",
    "expected\n",
    "chisquare_stat=((observed-expected)**2/expected).sum().sum()\n",
    "chisquare_stat"
   ]
  },
  {
   "cell_type": "code",
   "execution_count": 49,
   "id": "9122d964",
   "metadata": {},
   "outputs": [
    {
     "data": {
      "text/html": [
       "<div>\n",
       "<style scoped>\n",
       "    .dataframe tbody tr th:only-of-type {\n",
       "        vertical-align: middle;\n",
       "    }\n",
       "\n",
       "    .dataframe tbody tr th {\n",
       "        vertical-align: top;\n",
       "    }\n",
       "\n",
       "    .dataframe thead th {\n",
       "        text-align: right;\n",
       "    }\n",
       "</style>\n",
       "<table border=\"1\" class=\"dataframe\">\n",
       "  <thead>\n",
       "    <tr style=\"text-align: right;\">\n",
       "      <th></th>\n",
       "      <th>Primary</th>\n",
       "      <th>Secondary</th>\n",
       "      <th>tertiary</th>\n",
       "      <th>unknown</th>\n",
       "      <th>row_counts</th>\n",
       "    </tr>\n",
       "  </thead>\n",
       "  <tbody>\n",
       "    <tr>\n",
       "      <th>admin.</th>\n",
       "      <td>209</td>\n",
       "      <td>4219</td>\n",
       "      <td>572</td>\n",
       "      <td>171</td>\n",
       "      <td>5171</td>\n",
       "    </tr>\n",
       "    <tr>\n",
       "      <th>blue-collar</th>\n",
       "      <td>3758</td>\n",
       "      <td>5371</td>\n",
       "      <td>149</td>\n",
       "      <td>454</td>\n",
       "      <td>9732</td>\n",
       "    </tr>\n",
       "    <tr>\n",
       "      <th>entrepreneur</th>\n",
       "      <td>183</td>\n",
       "      <td>542</td>\n",
       "      <td>686</td>\n",
       "      <td>76</td>\n",
       "      <td>1487</td>\n",
       "    </tr>\n",
       "    <tr>\n",
       "      <th>housemaid</th>\n",
       "      <td>627</td>\n",
       "      <td>395</td>\n",
       "      <td>173</td>\n",
       "      <td>45</td>\n",
       "      <td>1240</td>\n",
       "    </tr>\n",
       "    <tr>\n",
       "      <th>management</th>\n",
       "      <td>294</td>\n",
       "      <td>1121</td>\n",
       "      <td>7801</td>\n",
       "      <td>242</td>\n",
       "      <td>9458</td>\n",
       "    </tr>\n",
       "    <tr>\n",
       "      <th>retired</th>\n",
       "      <td>795</td>\n",
       "      <td>984</td>\n",
       "      <td>366</td>\n",
       "      <td>119</td>\n",
       "      <td>2264</td>\n",
       "    </tr>\n",
       "    <tr>\n",
       "      <th>self-employed</th>\n",
       "      <td>130</td>\n",
       "      <td>577</td>\n",
       "      <td>833</td>\n",
       "      <td>39</td>\n",
       "      <td>1579</td>\n",
       "    </tr>\n",
       "    <tr>\n",
       "      <th>services</th>\n",
       "      <td>345</td>\n",
       "      <td>3457</td>\n",
       "      <td>202</td>\n",
       "      <td>150</td>\n",
       "      <td>4154</td>\n",
       "    </tr>\n",
       "    <tr>\n",
       "      <th>student</th>\n",
       "      <td>44</td>\n",
       "      <td>508</td>\n",
       "      <td>223</td>\n",
       "      <td>163</td>\n",
       "      <td>938</td>\n",
       "    </tr>\n",
       "    <tr>\n",
       "      <th>technician</th>\n",
       "      <td>158</td>\n",
       "      <td>5229</td>\n",
       "      <td>1968</td>\n",
       "      <td>242</td>\n",
       "      <td>7597</td>\n",
       "    </tr>\n",
       "    <tr>\n",
       "      <th>unemployed</th>\n",
       "      <td>257</td>\n",
       "      <td>728</td>\n",
       "      <td>289</td>\n",
       "      <td>29</td>\n",
       "      <td>1303</td>\n",
       "    </tr>\n",
       "    <tr>\n",
       "      <th>unknown</th>\n",
       "      <td>51</td>\n",
       "      <td>71</td>\n",
       "      <td>39</td>\n",
       "      <td>127</td>\n",
       "      <td>288</td>\n",
       "    </tr>\n",
       "    <tr>\n",
       "      <th>col_counts</th>\n",
       "      <td>6851</td>\n",
       "      <td>23202</td>\n",
       "      <td>13301</td>\n",
       "      <td>1857</td>\n",
       "      <td>45211</td>\n",
       "    </tr>\n",
       "  </tbody>\n",
       "</table>\n",
       "</div>"
      ],
      "text/plain": [
       "               Primary  Secondary  tertiary  unknown  row_counts\n",
       "admin.             209       4219       572      171        5171\n",
       "blue-collar       3758       5371       149      454        9732\n",
       "entrepreneur       183        542       686       76        1487\n",
       "housemaid          627        395       173       45        1240\n",
       "management         294       1121      7801      242        9458\n",
       "retired            795        984       366      119        2264\n",
       "self-employed      130        577       833       39        1579\n",
       "services           345       3457       202      150        4154\n",
       "student             44        508       223      163         938\n",
       "technician         158       5229      1968      242        7597\n",
       "unemployed         257        728       289       29        1303\n",
       "unknown             51         71        39      127         288\n",
       "col_counts        6851      23202     13301     1857       45211"
      ]
     },
     "execution_count": 49,
     "metadata": {},
     "output_type": "execute_result"
    }
   ],
   "source": [
    "tab"
   ]
  },
  {
   "cell_type": "code",
   "execution_count": 37,
   "id": "a9587052",
   "metadata": {},
   "outputs": [
    {
     "data": {
      "text/plain": [
       "array(['management', 'technician', 'entrepreneur', 'blue-collar',\n",
       "       'unknown', 'retired', 'admin.', 'services', 'self-employed',\n",
       "       'unemployed', 'housemaid', 'student'], dtype=object)"
      ]
     },
     "execution_count": 37,
     "metadata": {},
     "output_type": "execute_result"
    }
   ],
   "source": [
    "x=df['job'].unique()\n",
    "x"
   ]
  },
  {
   "cell_type": "code",
   "execution_count": 50,
   "id": "0a73adf3",
   "metadata": {},
   "outputs": [
    {
     "data": {
      "text/plain": [
       "3.841458820694124"
      ]
     },
     "execution_count": 50,
     "metadata": {},
     "output_type": "execute_result"
    }
   ],
   "source": [
    "tcrit=stats.chi2.ppf(q=0.95, df=1)\n",
    "tcrit"
   ]
  },
  {
   "cell_type": "code",
   "execution_count": 51,
   "id": "3a027fa1",
   "metadata": {},
   "outputs": [
    {
     "data": {
      "text/plain": [
       "0.0"
      ]
     },
     "execution_count": 51,
     "metadata": {},
     "output_type": "execute_result"
    }
   ],
   "source": [
    "p_value=1-stats.chi2.cdf(x=chisquare_stat,df=1)\n",
    "p_value "
   ]
  },
  {
   "cell_type": "markdown",
   "id": "87d70fc7",
   "metadata": {},
   "source": [
    "## Feature Engineering "
   ]
  },
  {
   "cell_type": "code",
   "execution_count": 52,
   "id": "3e64fb2a",
   "metadata": {},
   "outputs": [],
   "source": [
    "from sklearn.metrics import classification_report \n",
    "from sklearn.metrics import accuracy_score\n",
    "from sklearn.metrics import auc\n",
    "from sklearn.metrics import confusion_matrix"
   ]
  },
  {
   "cell_type": "code",
   "execution_count": 400,
   "id": "cbf0614f",
   "metadata": {},
   "outputs": [],
   "source": [
    "from sklearn.model_selection import train_test_split"
   ]
  },
  {
   "cell_type": "code",
   "execution_count": 439,
   "id": "8a72800d",
   "metadata": {},
   "outputs": [],
   "source": [
    "X=df.drop('y',axis=1)\n",
    "y=df['y']"
   ]
  },
  {
   "cell_type": "code",
   "execution_count": 440,
   "id": "818f4617",
   "metadata": {},
   "outputs": [],
   "source": [
    "X_train,X_test,y_train,y_test = train_test_split(X, y, test_size=0.33, random_state=42)"
   ]
  },
  {
   "cell_type": "code",
   "execution_count": 441,
   "id": "76c0fbe0",
   "metadata": {},
   "outputs": [
    {
     "data": {
      "text/plain": [
       "no     0.883002\n",
       "yes    0.116998\n",
       "Name: y, dtype: float64"
      ]
     },
     "execution_count": 441,
     "metadata": {},
     "output_type": "execute_result"
    }
   ],
   "source": [
    "y_train.value_counts(normalize=True)"
   ]
  },
  {
   "cell_type": "code",
   "execution_count": 442,
   "id": "733e65fd",
   "metadata": {},
   "outputs": [],
   "source": [
    "from sklearn.preprocessing import OneHotEncoder"
   ]
  },
  {
   "cell_type": "code",
   "execution_count": 443,
   "id": "d356daa8",
   "metadata": {},
   "outputs": [],
   "source": [
    "X_train.reset_index(inplace=True, drop=True)\n",
    "X_test.reset_index(inplace=True,drop=True)"
   ]
  },
  {
   "cell_type": "code",
   "execution_count": 444,
   "id": "8f514319",
   "metadata": {},
   "outputs": [
    {
     "data": {
      "text/html": [
       "<div>\n",
       "<style scoped>\n",
       "    .dataframe tbody tr th:only-of-type {\n",
       "        vertical-align: middle;\n",
       "    }\n",
       "\n",
       "    .dataframe tbody tr th {\n",
       "        vertical-align: top;\n",
       "    }\n",
       "\n",
       "    .dataframe thead th {\n",
       "        text-align: right;\n",
       "    }\n",
       "</style>\n",
       "<table border=\"1\" class=\"dataframe\">\n",
       "  <thead>\n",
       "    <tr style=\"text-align: right;\">\n",
       "      <th></th>\n",
       "      <th>age</th>\n",
       "      <th>job</th>\n",
       "      <th>marital</th>\n",
       "      <th>education</th>\n",
       "      <th>default</th>\n",
       "      <th>balance</th>\n",
       "      <th>housing</th>\n",
       "      <th>loan</th>\n",
       "      <th>contact</th>\n",
       "      <th>day</th>\n",
       "      <th>month</th>\n",
       "      <th>duration</th>\n",
       "      <th>campaign</th>\n",
       "      <th>pdays</th>\n",
       "      <th>previous</th>\n",
       "      <th>poutcome</th>\n",
       "    </tr>\n",
       "  </thead>\n",
       "  <tbody>\n",
       "    <tr>\n",
       "      <th>0</th>\n",
       "      <td>29</td>\n",
       "      <td>housemaid</td>\n",
       "      <td>single</td>\n",
       "      <td>tertiary</td>\n",
       "      <td>no</td>\n",
       "      <td>453</td>\n",
       "      <td>no</td>\n",
       "      <td>no</td>\n",
       "      <td>cellular</td>\n",
       "      <td>13</td>\n",
       "      <td>aug</td>\n",
       "      <td>126</td>\n",
       "      <td>2</td>\n",
       "      <td>-1</td>\n",
       "      <td>0</td>\n",
       "      <td>unknown</td>\n",
       "    </tr>\n",
       "    <tr>\n",
       "      <th>1</th>\n",
       "      <td>55</td>\n",
       "      <td>services</td>\n",
       "      <td>married</td>\n",
       "      <td>secondary</td>\n",
       "      <td>no</td>\n",
       "      <td>0</td>\n",
       "      <td>no</td>\n",
       "      <td>no</td>\n",
       "      <td>cellular</td>\n",
       "      <td>22</td>\n",
       "      <td>oct</td>\n",
       "      <td>102</td>\n",
       "      <td>1</td>\n",
       "      <td>106</td>\n",
       "      <td>1</td>\n",
       "      <td>failure</td>\n",
       "    </tr>\n",
       "    <tr>\n",
       "      <th>2</th>\n",
       "      <td>56</td>\n",
       "      <td>services</td>\n",
       "      <td>divorced</td>\n",
       "      <td>secondary</td>\n",
       "      <td>no</td>\n",
       "      <td>935</td>\n",
       "      <td>no</td>\n",
       "      <td>no</td>\n",
       "      <td>cellular</td>\n",
       "      <td>2</td>\n",
       "      <td>jun</td>\n",
       "      <td>136</td>\n",
       "      <td>1</td>\n",
       "      <td>96</td>\n",
       "      <td>3</td>\n",
       "      <td>failure</td>\n",
       "    </tr>\n",
       "    <tr>\n",
       "      <th>3</th>\n",
       "      <td>47</td>\n",
       "      <td>housemaid</td>\n",
       "      <td>single</td>\n",
       "      <td>tertiary</td>\n",
       "      <td>no</td>\n",
       "      <td>3232</td>\n",
       "      <td>no</td>\n",
       "      <td>no</td>\n",
       "      <td>telephone</td>\n",
       "      <td>6</td>\n",
       "      <td>oct</td>\n",
       "      <td>541</td>\n",
       "      <td>1</td>\n",
       "      <td>204</td>\n",
       "      <td>3</td>\n",
       "      <td>failure</td>\n",
       "    </tr>\n",
       "    <tr>\n",
       "      <th>4</th>\n",
       "      <td>39</td>\n",
       "      <td>technician</td>\n",
       "      <td>married</td>\n",
       "      <td>tertiary</td>\n",
       "      <td>no</td>\n",
       "      <td>508</td>\n",
       "      <td>no</td>\n",
       "      <td>no</td>\n",
       "      <td>cellular</td>\n",
       "      <td>2</td>\n",
       "      <td>nov</td>\n",
       "      <td>154</td>\n",
       "      <td>3</td>\n",
       "      <td>-1</td>\n",
       "      <td>0</td>\n",
       "      <td>unknown</td>\n",
       "    </tr>\n",
       "  </tbody>\n",
       "</table>\n",
       "</div>"
      ],
      "text/plain": [
       "   age         job   marital  education default  balance housing loan  \\\n",
       "0   29   housemaid    single   tertiary      no      453      no   no   \n",
       "1   55    services   married  secondary      no        0      no   no   \n",
       "2   56    services  divorced  secondary      no      935      no   no   \n",
       "3   47   housemaid    single   tertiary      no     3232      no   no   \n",
       "4   39  technician   married   tertiary      no      508      no   no   \n",
       "\n",
       "     contact  day month  duration  campaign  pdays  previous poutcome  \n",
       "0   cellular   13   aug       126         2     -1         0  unknown  \n",
       "1   cellular   22   oct       102         1    106         1  failure  \n",
       "2   cellular    2   jun       136         1     96         3  failure  \n",
       "3  telephone    6   oct       541         1    204         3  failure  \n",
       "4   cellular    2   nov       154         3     -1         0  unknown  "
      ]
     },
     "execution_count": 444,
     "metadata": {},
     "output_type": "execute_result"
    }
   ],
   "source": [
    "X_train.head()"
   ]
  },
  {
   "cell_type": "code",
   "execution_count": 445,
   "id": "b29b5218",
   "metadata": {},
   "outputs": [],
   "source": [
    "for i in category:\n",
    "    X_train[i]=X_train[i].astype('category')"
   ]
  },
  {
   "cell_type": "code",
   "execution_count": 446,
   "id": "f6418d70",
   "metadata": {},
   "outputs": [
    {
     "data": {
      "text/plain": [
       "OneHotEncoder(drop='first', handle_unknown='ignore')"
      ]
     },
     "execution_count": 446,
     "metadata": {},
     "output_type": "execute_result"
    }
   ],
   "source": [
    "enc = OneHotEncoder(handle_unknown='ignore',drop='first')\n",
    "category=['job','marital','education'] #,'default','housing','loan','contact','month','poutcome']\n",
    "enc.fit(X_train[category])"
   ]
  },
  {
   "cell_type": "code",
   "execution_count": 447,
   "id": "e6a0c3b0",
   "metadata": {},
   "outputs": [],
   "source": [
    "new_df=pd.DataFrame(enc.transform(X_train[category]).toarray())\n",
    "new_df.columns=enc.get_feature_names_out()"
   ]
  },
  {
   "cell_type": "code",
   "execution_count": 448,
   "id": "41314541",
   "metadata": {},
   "outputs": [
    {
     "data": {
      "text/plain": [
       "['job',\n",
       " 'marital',\n",
       " 'education',\n",
       " 'default',\n",
       " 'housing',\n",
       " 'loan',\n",
       " 'contact',\n",
       " 'month',\n",
       " 'poutcome',\n",
       " 'balance',\n",
       " 'day',\n",
       " 'duration',\n",
       " 'campaign',\n",
       " 'pdays',\n",
       " 'previous']"
      ]
     },
     "execution_count": 448,
     "metadata": {},
     "output_type": "execute_result"
    }
   ],
   "source": [
    "#numerical_feature=['age', 'balance', 'day', 'duration', 'campaign', 'pdays', 'previous']\n",
    "categorical_features=['job','marital','education','default','housing','loan','contact','month','poutcome']\n",
    "num_features=['balance', 'day', 'duration', 'campaign', 'pdays', 'previous']\n",
    "features_drop=categorical_features+num_features\n",
    "features_drop"
   ]
  },
  {
   "cell_type": "code",
   "execution_count": 436,
   "id": "c7e083de",
   "metadata": {},
   "outputs": [],
   "source": [
    "features_drop"
   ]
  },
  {
   "cell_type": "code",
   "execution_count": 449,
   "id": "8292fcb8",
   "metadata": {},
   "outputs": [],
   "source": [
    "X_train=pd.concat([X_train, new_df], axis=1).drop(features_drop, axis=1)"
   ]
  },
  {
   "cell_type": "code",
   "execution_count": 450,
   "id": "d4293f30",
   "metadata": {},
   "outputs": [],
   "source": [
    "y_train=[1 if i=='yes' else 0 for i in y_train.values]"
   ]
  },
  {
   "cell_type": "code",
   "execution_count": 451,
   "id": "219abc7a",
   "metadata": {},
   "outputs": [],
   "source": [
    "new_df=pd.DataFrame(enc.transform(X_test[category]).toarray())\n",
    "new_df.columns=enc.get_feature_names_out()\n",
    "X_test=pd.concat([X_test, new_df], axis=1).drop(features_drop, axis=1)\n",
    "y_test=[1 if i=='yes' else 0 for i in y_test.values]"
   ]
  },
  {
   "cell_type": "code",
   "execution_count": 452,
   "id": "c0585c5c",
   "metadata": {},
   "outputs": [
    {
     "data": {
      "text/plain": [
       "Index(['age', 'job_blue-collar', 'job_entrepreneur', 'job_housemaid',\n",
       "       'job_management', 'job_retired', 'job_self-employed', 'job_services',\n",
       "       'job_student', 'job_technician', 'job_unemployed', 'job_unknown',\n",
       "       'marital_married', 'marital_single', 'education_secondary',\n",
       "       'education_tertiary', 'education_unknown'],\n",
       "      dtype='object')"
      ]
     },
     "execution_count": 452,
     "metadata": {},
     "output_type": "execute_result"
    }
   ],
   "source": [
    "X_train.columns"
   ]
  },
  {
   "cell_type": "markdown",
   "id": "9a750ad8",
   "metadata": {},
   "source": [
    "## Training Logistic Regression Model"
   ]
  },
  {
   "cell_type": "code",
   "execution_count": 453,
   "id": "01bed58e",
   "metadata": {},
   "outputs": [],
   "source": [
    "from sklearn.linear_model import LogisticRegression"
   ]
  },
  {
   "cell_type": "code",
   "execution_count": 454,
   "id": "1902e274",
   "metadata": {},
   "outputs": [],
   "source": [
    "lr=LogisticRegression(penalty='l2',class_weight=None,random_state=50,max_iter=1000,n_jobs=-1)"
   ]
  },
  {
   "cell_type": "code",
   "execution_count": 455,
   "id": "0245e2b7",
   "metadata": {},
   "outputs": [
    {
     "data": {
      "text/plain": [
       "LogisticRegression(max_iter=1000, n_jobs=-1, random_state=50)"
      ]
     },
     "execution_count": 455,
     "metadata": {},
     "output_type": "execute_result"
    }
   ],
   "source": [
    "lr.fit(X_train,y_train)"
   ]
  },
  {
   "cell_type": "code",
   "execution_count": 456,
   "id": "3686d87c",
   "metadata": {},
   "outputs": [
    {
     "data": {
      "text/plain": [
       "0.8830015516159916"
      ]
     },
     "execution_count": 456,
     "metadata": {},
     "output_type": "execute_result"
    }
   ],
   "source": [
    "lr.score(X_train,y_train)"
   ]
  },
  {
   "cell_type": "code",
   "execution_count": 457,
   "id": "8a2c36cf",
   "metadata": {},
   "outputs": [
    {
     "data": {
      "text/plain": [
       "array([-2.82114332])"
      ]
     },
     "execution_count": 457,
     "metadata": {},
     "output_type": "execute_result"
    }
   ],
   "source": [
    "lr.intercept_"
   ]
  },
  {
   "cell_type": "code",
   "execution_count": 458,
   "id": "50abad65",
   "metadata": {},
   "outputs": [
    {
     "data": {
      "text/plain": [
       "array([[ 0.01261031, -0.36825601, -0.46533952, -0.16270564, -0.10782631,\n",
       "         0.64649515, -0.13201402, -0.27030771,  0.9095962 , -0.18097127,\n",
       "         0.31643406, -0.24064157, -0.11509179,  0.34277878,  0.22923693,\n",
       "         0.59220578,  0.30764464]])"
      ]
     },
     "execution_count": 458,
     "metadata": {},
     "output_type": "execute_result"
    }
   ],
   "source": [
    "lr.coef_"
   ]
  },
  {
   "cell_type": "code",
   "execution_count": 459,
   "id": "66a529f0",
   "metadata": {},
   "outputs": [
    {
     "data": {
      "text/plain": [
       "array(['age', 'job_blue-collar', 'job_entrepreneur', 'job_housemaid',\n",
       "       'job_management', 'job_retired', 'job_self-employed',\n",
       "       'job_services', 'job_student', 'job_technician', 'job_unemployed',\n",
       "       'job_unknown', 'marital_married', 'marital_single',\n",
       "       'education_secondary', 'education_tertiary', 'education_unknown'],\n",
       "      dtype=object)"
      ]
     },
     "execution_count": 459,
     "metadata": {},
     "output_type": "execute_result"
    }
   ],
   "source": [
    "lr.feature_names_in_"
   ]
  },
  {
   "cell_type": "code",
   "execution_count": 483,
   "id": "f77db698",
   "metadata": {},
   "outputs": [
    {
     "data": {
      "text/plain": [
       "0.8830428954423593"
      ]
     },
     "execution_count": 483,
     "metadata": {},
     "output_type": "execute_result"
    }
   ],
   "source": [
    "##Test Accuracy\n",
    "lr.score(X_test,y_test)"
   ]
  },
  {
   "cell_type": "code",
   "execution_count": 484,
   "id": "dd3278a8",
   "metadata": {},
   "outputs": [],
   "source": [
    "y_pred=lr.predict(X_test)"
   ]
  },
  {
   "cell_type": "code",
   "execution_count": 485,
   "id": "9d53a185",
   "metadata": {},
   "outputs": [
    {
     "name": "stdout",
     "output_type": "stream",
     "text": [
      "tn:13175,fp:0,fn:1745,tp:0\n"
     ]
    }
   ],
   "source": [
    "tn, fp, fn, tp = confusion_matrix(y_test,y_pred).ravel()\n",
    "print('tn:{},fp:{},fn:{},tp:{}'.format(tn,fp,fn,tp))"
   ]
  },
  {
   "cell_type": "code",
   "execution_count": 486,
   "id": "07b63a83",
   "metadata": {},
   "outputs": [
    {
     "data": {
      "text/plain": [
       "array([[13175,     0],\n",
       "       [ 1745,     0]], dtype=int64)"
      ]
     },
     "execution_count": 486,
     "metadata": {},
     "output_type": "execute_result"
    }
   ],
   "source": [
    "confusion_matrix(y_test,y_pred)"
   ]
  },
  {
   "cell_type": "code",
   "execution_count": 487,
   "id": "ff0941b6",
   "metadata": {},
   "outputs": [
    {
     "name": "stdout",
     "output_type": "stream",
     "text": [
      "              precision    recall  f1-score   support\n",
      "\n",
      "           0       0.88      1.00      0.94     13175\n",
      "           1       0.00      0.00      0.00      1745\n",
      "\n",
      "    accuracy                           0.88     14920\n",
      "   macro avg       0.44      0.50      0.47     14920\n",
      "weighted avg       0.78      0.88      0.83     14920\n",
      "\n"
     ]
    },
    {
     "name": "stderr",
     "output_type": "stream",
     "text": [
      "C:\\Users\\ahmad106\\anaconda3\\lib\\site-packages\\sklearn\\metrics\\_classification.py:1318: UndefinedMetricWarning: Precision and F-score are ill-defined and being set to 0.0 in labels with no predicted samples. Use `zero_division` parameter to control this behavior.\n",
      "  _warn_prf(average, modifier, msg_start, len(result))\n",
      "C:\\Users\\ahmad106\\anaconda3\\lib\\site-packages\\sklearn\\metrics\\_classification.py:1318: UndefinedMetricWarning: Precision and F-score are ill-defined and being set to 0.0 in labels with no predicted samples. Use `zero_division` parameter to control this behavior.\n",
      "  _warn_prf(average, modifier, msg_start, len(result))\n",
      "C:\\Users\\ahmad106\\anaconda3\\lib\\site-packages\\sklearn\\metrics\\_classification.py:1318: UndefinedMetricWarning: Precision and F-score are ill-defined and being set to 0.0 in labels with no predicted samples. Use `zero_division` parameter to control this behavior.\n",
      "  _warn_prf(average, modifier, msg_start, len(result))\n"
     ]
    }
   ],
   "source": [
    "print(classification_report(y_test,y_pred))"
   ]
  },
  {
   "cell_type": "code",
   "execution_count": 488,
   "id": "cc968abb",
   "metadata": {},
   "outputs": [],
   "source": [
    "y_prob=lr.predict_proba(X_test)"
   ]
  },
  {
   "cell_type": "code",
   "execution_count": 489,
   "id": "8b8b9e84",
   "metadata": {},
   "outputs": [
    {
     "data": {
      "text/plain": [
       "array([0.87288933, 0.12711067])"
      ]
     },
     "execution_count": 489,
     "metadata": {},
     "output_type": "execute_result"
    }
   ],
   "source": [
    "y_prob[1]"
   ]
  },
  {
   "cell_type": "code",
   "execution_count": 490,
   "id": "f410105b",
   "metadata": {},
   "outputs": [],
   "source": [
    "def prob(cutoff,y_prob):\n",
    "    y_p=[]\n",
    "    for i in y_prob:\n",
    "        if i[1]>=cutoff:\n",
    "            y_p.append(1)\n",
    "        else:\n",
    "            y_p.append(0)\n",
    "    return y_p"
   ]
  },
  {
   "cell_type": "code",
   "execution_count": 503,
   "id": "bd19c21d",
   "metadata": {},
   "outputs": [],
   "source": [
    "cutoff=0.1\n",
    "y_pred=prob(cutoff,y_prob)"
   ]
  },
  {
   "cell_type": "code",
   "execution_count": 504,
   "id": "2ea2f364",
   "metadata": {},
   "outputs": [
    {
     "data": {
      "text/plain": [
       "array([[6008, 7167],\n",
       "       [ 494, 1251]], dtype=int64)"
      ]
     },
     "execution_count": 504,
     "metadata": {},
     "output_type": "execute_result"
    }
   ],
   "source": [
    "confusion_matrix(y_test,y_pred)"
   ]
  },
  {
   "cell_type": "code",
   "execution_count": 505,
   "id": "1971f6bf",
   "metadata": {},
   "outputs": [
    {
     "name": "stdout",
     "output_type": "stream",
     "text": [
      "              precision    recall  f1-score   support\n",
      "\n",
      "           0       0.92      0.46      0.61     13175\n",
      "           1       0.15      0.72      0.25      1745\n",
      "\n",
      "    accuracy                           0.49     14920\n",
      "   macro avg       0.54      0.59      0.43     14920\n",
      "weighted avg       0.83      0.49      0.57     14920\n",
      "\n"
     ]
    }
   ],
   "source": [
    "print(classification_report(y_test,y_pred))"
   ]
  }
 ],
 "metadata": {
  "kernelspec": {
   "display_name": "Python 3 (ipykernel)",
   "language": "python",
   "name": "python3"
  },
  "language_info": {
   "codemirror_mode": {
    "name": "ipython",
    "version": 3
   },
   "file_extension": ".py",
   "mimetype": "text/x-python",
   "name": "python",
   "nbconvert_exporter": "python",
   "pygments_lexer": "ipython3",
   "version": "3.9.12"
  }
 },
 "nbformat": 4,
 "nbformat_minor": 5
}
